{
 "cells": [
  {
   "cell_type": "markdown",
   "metadata": {},
   "source": [
    "## İmport"
   ]
  },
  {
   "cell_type": "code",
   "execution_count": 1,
   "metadata": {},
   "outputs": [],
   "source": [
    "import numpy as np \n",
    "import pandas as pd\n",
    "import matplotlib.pyplot as plt\n",
    "from sklearn.model_selection import train_test_split\n",
    "from sklearn.linear_model import LogisticRegression\n",
    "from sklearn.metrics import accuracy_score, f1_score, log_loss\n",
    "from sklearn.metrics import confusion_matrix\n",
    "import seaborn as sns\n",
    "import matplotlib.pyplot as plt"
   ]
  },
  {
   "cell_type": "markdown",
   "metadata": {},
   "source": [
    "## Veri Analizi"
   ]
  },
  {
   "cell_type": "code",
   "execution_count": 2,
   "metadata": {},
   "outputs": [
    {
     "name": "stderr",
     "output_type": "stream",
     "text": [
      "/tmp/ipykernel_17958/4125006795.py:1: DtypeWarning: Columns (92) have mixed types. Specify dtype option on import or set low_memory=False.\n",
      "  data = pd.read_csv(\"/home/osman/Documents/projeler/Android-App-Malicious-anlysis/datasets/drebin-215-dataset-5560malware-9476-benign.csv\")\n"
     ]
    },
    {
     "data": {
      "text/html": [
       "<div>\n",
       "<style scoped>\n",
       "    .dataframe tbody tr th:only-of-type {\n",
       "        vertical-align: middle;\n",
       "    }\n",
       "\n",
       "    .dataframe tbody tr th {\n",
       "        vertical-align: top;\n",
       "    }\n",
       "\n",
       "    .dataframe thead th {\n",
       "        text-align: right;\n",
       "    }\n",
       "</style>\n",
       "<table border=\"1\" class=\"dataframe\">\n",
       "  <thead>\n",
       "    <tr style=\"text-align: right;\">\n",
       "      <th></th>\n",
       "      <th>transact</th>\n",
       "      <th>onServiceConnected</th>\n",
       "      <th>bindService</th>\n",
       "      <th>attachInterface</th>\n",
       "      <th>ServiceConnection</th>\n",
       "      <th>android.os.Binder</th>\n",
       "      <th>SEND_SMS</th>\n",
       "      <th>Ljava.lang.Class.getCanonicalName</th>\n",
       "      <th>Ljava.lang.Class.getMethods</th>\n",
       "      <th>Ljava.lang.Class.cast</th>\n",
       "      <th>...</th>\n",
       "      <th>READ_CONTACTS</th>\n",
       "      <th>DEVICE_POWER</th>\n",
       "      <th>HARDWARE_TEST</th>\n",
       "      <th>ACCESS_WIFI_STATE</th>\n",
       "      <th>WRITE_EXTERNAL_STORAGE</th>\n",
       "      <th>ACCESS_FINE_LOCATION</th>\n",
       "      <th>SET_WALLPAPER_HINTS</th>\n",
       "      <th>SET_PREFERRED_APPLICATIONS</th>\n",
       "      <th>WRITE_SECURE_SETTINGS</th>\n",
       "      <th>class</th>\n",
       "    </tr>\n",
       "  </thead>\n",
       "  <tbody>\n",
       "    <tr>\n",
       "      <th>0</th>\n",
       "      <td>0</td>\n",
       "      <td>0</td>\n",
       "      <td>0</td>\n",
       "      <td>0</td>\n",
       "      <td>0</td>\n",
       "      <td>0</td>\n",
       "      <td>1</td>\n",
       "      <td>0</td>\n",
       "      <td>0</td>\n",
       "      <td>0</td>\n",
       "      <td>...</td>\n",
       "      <td>0</td>\n",
       "      <td>0</td>\n",
       "      <td>0</td>\n",
       "      <td>0</td>\n",
       "      <td>1</td>\n",
       "      <td>0</td>\n",
       "      <td>0</td>\n",
       "      <td>0</td>\n",
       "      <td>0</td>\n",
       "      <td>S</td>\n",
       "    </tr>\n",
       "    <tr>\n",
       "      <th>1</th>\n",
       "      <td>0</td>\n",
       "      <td>0</td>\n",
       "      <td>0</td>\n",
       "      <td>0</td>\n",
       "      <td>0</td>\n",
       "      <td>0</td>\n",
       "      <td>1</td>\n",
       "      <td>0</td>\n",
       "      <td>0</td>\n",
       "      <td>0</td>\n",
       "      <td>...</td>\n",
       "      <td>0</td>\n",
       "      <td>0</td>\n",
       "      <td>0</td>\n",
       "      <td>0</td>\n",
       "      <td>1</td>\n",
       "      <td>0</td>\n",
       "      <td>0</td>\n",
       "      <td>0</td>\n",
       "      <td>0</td>\n",
       "      <td>S</td>\n",
       "    </tr>\n",
       "    <tr>\n",
       "      <th>2</th>\n",
       "      <td>0</td>\n",
       "      <td>0</td>\n",
       "      <td>0</td>\n",
       "      <td>0</td>\n",
       "      <td>0</td>\n",
       "      <td>0</td>\n",
       "      <td>1</td>\n",
       "      <td>0</td>\n",
       "      <td>0</td>\n",
       "      <td>0</td>\n",
       "      <td>...</td>\n",
       "      <td>0</td>\n",
       "      <td>0</td>\n",
       "      <td>0</td>\n",
       "      <td>0</td>\n",
       "      <td>0</td>\n",
       "      <td>0</td>\n",
       "      <td>0</td>\n",
       "      <td>0</td>\n",
       "      <td>0</td>\n",
       "      <td>S</td>\n",
       "    </tr>\n",
       "    <tr>\n",
       "      <th>3</th>\n",
       "      <td>0</td>\n",
       "      <td>0</td>\n",
       "      <td>0</td>\n",
       "      <td>0</td>\n",
       "      <td>0</td>\n",
       "      <td>0</td>\n",
       "      <td>0</td>\n",
       "      <td>0</td>\n",
       "      <td>0</td>\n",
       "      <td>1</td>\n",
       "      <td>...</td>\n",
       "      <td>0</td>\n",
       "      <td>0</td>\n",
       "      <td>0</td>\n",
       "      <td>1</td>\n",
       "      <td>1</td>\n",
       "      <td>1</td>\n",
       "      <td>0</td>\n",
       "      <td>0</td>\n",
       "      <td>0</td>\n",
       "      <td>S</td>\n",
       "    </tr>\n",
       "    <tr>\n",
       "      <th>4</th>\n",
       "      <td>0</td>\n",
       "      <td>0</td>\n",
       "      <td>0</td>\n",
       "      <td>0</td>\n",
       "      <td>0</td>\n",
       "      <td>0</td>\n",
       "      <td>0</td>\n",
       "      <td>0</td>\n",
       "      <td>0</td>\n",
       "      <td>0</td>\n",
       "      <td>...</td>\n",
       "      <td>0</td>\n",
       "      <td>0</td>\n",
       "      <td>0</td>\n",
       "      <td>1</td>\n",
       "      <td>0</td>\n",
       "      <td>1</td>\n",
       "      <td>0</td>\n",
       "      <td>0</td>\n",
       "      <td>0</td>\n",
       "      <td>S</td>\n",
       "    </tr>\n",
       "  </tbody>\n",
       "</table>\n",
       "<p>5 rows × 216 columns</p>\n",
       "</div>"
      ],
      "text/plain": [
       "   transact  onServiceConnected  bindService  attachInterface  \\\n",
       "0         0                   0            0                0   \n",
       "1         0                   0            0                0   \n",
       "2         0                   0            0                0   \n",
       "3         0                   0            0                0   \n",
       "4         0                   0            0                0   \n",
       "\n",
       "   ServiceConnection  android.os.Binder  SEND_SMS  \\\n",
       "0                  0                  0         1   \n",
       "1                  0                  0         1   \n",
       "2                  0                  0         1   \n",
       "3                  0                  0         0   \n",
       "4                  0                  0         0   \n",
       "\n",
       "   Ljava.lang.Class.getCanonicalName  Ljava.lang.Class.getMethods  \\\n",
       "0                                  0                            0   \n",
       "1                                  0                            0   \n",
       "2                                  0                            0   \n",
       "3                                  0                            0   \n",
       "4                                  0                            0   \n",
       "\n",
       "   Ljava.lang.Class.cast  ...  READ_CONTACTS  DEVICE_POWER  HARDWARE_TEST  \\\n",
       "0                      0  ...              0             0              0   \n",
       "1                      0  ...              0             0              0   \n",
       "2                      0  ...              0             0              0   \n",
       "3                      1  ...              0             0              0   \n",
       "4                      0  ...              0             0              0   \n",
       "\n",
       "   ACCESS_WIFI_STATE  WRITE_EXTERNAL_STORAGE  ACCESS_FINE_LOCATION  \\\n",
       "0                  0                       1                     0   \n",
       "1                  0                       1                     0   \n",
       "2                  0                       0                     0   \n",
       "3                  1                       1                     1   \n",
       "4                  1                       0                     1   \n",
       "\n",
       "   SET_WALLPAPER_HINTS  SET_PREFERRED_APPLICATIONS  WRITE_SECURE_SETTINGS  \\\n",
       "0                    0                           0                      0   \n",
       "1                    0                           0                      0   \n",
       "2                    0                           0                      0   \n",
       "3                    0                           0                      0   \n",
       "4                    0                           0                      0   \n",
       "\n",
       "   class  \n",
       "0      S  \n",
       "1      S  \n",
       "2      S  \n",
       "3      S  \n",
       "4      S  \n",
       "\n",
       "[5 rows x 216 columns]"
      ]
     },
     "execution_count": 2,
     "metadata": {},
     "output_type": "execute_result"
    }
   ],
   "source": [
    "data = pd.read_csv(\"/home/osman/Documents/projeler/Android-App-Malicious-anlysis/datasets/drebin-215-dataset-5560malware-9476-benign.csv\")\n",
    "data.head()\n"
   ]
  },
  {
   "cell_type": "code",
   "execution_count": 3,
   "metadata": {},
   "outputs": [
    {
     "data": {
      "text/plain": [
       "(15036, 216)"
      ]
     },
     "execution_count": 3,
     "metadata": {},
     "output_type": "execute_result"
    }
   ],
   "source": [
    "data.shape"
   ]
  },
  {
   "cell_type": "code",
   "execution_count": 4,
   "metadata": {},
   "outputs": [
    {
     "name": "stdout",
     "output_type": "stream",
     "text": [
      "veri sayısı:  3247776\n",
      "boyutu:  15036\n"
     ]
    }
   ],
   "source": [
    "print(\"veri sayısı: \",data.count().sum())\n",
    "print(\"boyutu: \",len(data))"
   ]
  },
  {
   "cell_type": "code",
   "execution_count": 5,
   "metadata": {},
   "outputs": [
    {
     "data": {
      "text/plain": [
       "0"
      ]
     },
     "execution_count": 5,
     "metadata": {},
     "output_type": "execute_result"
    }
   ],
   "source": [
    "data.isnull().sum().sum()"
   ]
  },
  {
   "cell_type": "code",
   "execution_count": 6,
   "metadata": {},
   "outputs": [
    {
     "data": {
      "image/png": "[encoded data removed]",
      "text/plain": [
       "<Figure size 640x480 with 1 Axes>"
      ]
     },
     "metadata": {},
     "output_type": "display_data"
    }
   ],
   "source": [
    "plt.hist(data[\"class\"])\n",
    "plt.xlabel(\"Class\")\n",
    "plt.ylabel(\"Count\")\n",
    "plt.show()"
   ]
  },
  {
   "cell_type": "code",
   "execution_count": 7,
   "metadata": {},
   "outputs": [
    {
     "data": {
      "image/png": "[encoded data removed]",
      "text/plain": [
       "<Figure size 640x480 with 1 Axes>"
      ]
     },
     "metadata": {},
     "output_type": "display_data"
    }
   ],
   "source": [
    "import pandas as pd\n",
    "\n",
    "# class,B=Benign; S=Malware\n",
    "# 'class' kolonundaki 'S' olanları 1, 'B' olanları 0 yapın\n",
    "data['class'] = data['class'].apply(lambda x: 1 if x == 'S' else 0)\n",
    "\n",
    "plt.hist(data[\"class\"])\n",
    "plt.xlabel(\"Class\")\n",
    "plt.ylabel(\"Count\")\n",
    "plt.show()\n",
    "\n"
   ]
  },
  {
   "cell_type": "code",
   "execution_count": 8,
   "metadata": {},
   "outputs": [],
   "source": [
    "def kolonda_kelime_bulma(kelime):\n",
    "    kolon_isimleri = data.columns\n",
    "    signature_kolonlari = [kolon for kolon in kolon_isimleri if kelime in kolon]\n",
    "    \n",
    "    print(kelime, \" İçeren Kolon İsimleri:\")\n",
    "    for indeks, kolon in enumerate(signature_kolonlari):\n",
    "        print(f\"  {kolon} - İndeks: {indeks}\")\n",
    "    \n",
    "    print(\"Eleman sayisi:\", len(signature_kolonlari))"
   ]
  },
  {
   "cell_type": "code",
   "execution_count": 9,
   "metadata": {},
   "outputs": [
    {
     "name": "stdout",
     "output_type": "stream",
     "text": [
      "bindService  İçeren Kolon İsimleri:\n",
      "  bindService - İndeks: 0\n",
      "  Context.bindService - İndeks: 1\n",
      "Eleman sayisi: 2\n"
     ]
    }
   ],
   "source": [
    "kolonda_kelime_bulma(\"bindService\")"
   ]
  },
  {
   "cell_type": "markdown",
   "metadata": {},
   "source": [
    "## Veri Tipi Kontrolü"
   ]
  },
  {
   "cell_type": "code",
   "execution_count": 10,
   "metadata": {},
   "outputs": [
    {
     "name": "stdout",
     "output_type": "stream",
     "text": [
      "Veri Tipleri ve Sayıları:\n",
      "int64: 215\n",
      "object: 1\n",
      "\n",
      "Her Kolondaki Veri Tipleri:\n",
      "int64: transact, onServiceConnected, bindService, attachInterface, ServiceConnection, android.os.Binder, SEND_SMS, Ljava.lang.Class.getCanonicalName, Ljava.lang.Class.getMethods, Ljava.lang.Class.cast, Ljava.net.URLDecoder, android.content.pm.Signature, android.telephony.SmsManager, READ_PHONE_STATE, getBinder, ClassLoader, Landroid.content.Context.registerReceiver, Ljava.lang.Class.getField, Landroid.content.Context.unregisterReceiver, GET_ACCOUNTS, RECEIVE_SMS, Ljava.lang.Class.getDeclaredField, READ_SMS, getCallingUid, Ljavax.crypto.spec.SecretKeySpec, android.intent.action.BOOT_COMPLETED, USE_CREDENTIALS, MANAGE_ACCOUNTS, android.content.pm.PackageInfo, KeySpec, TelephonyManager.getLine1Number, DexClassLoader, HttpGet.init, SecretKey, Ljava.lang.Class.getMethod, System.loadLibrary, android.intent.action.SEND, Ljavax.crypto.Cipher, WRITE_SMS, READ_SYNC_SETTINGS, AUTHENTICATE_ACCOUNTS, android.telephony.gsm.SmsManager, WRITE_HISTORY_BOOKMARKS, TelephonyManager.getSubscriberId, mount, INSTALL_PACKAGES, Runtime.getRuntime, CAMERA, Ljava.lang.Object.getClass, WRITE_SYNC_SETTINGS, READ_HISTORY_BOOKMARKS, Ljava.lang.Class.forName, INTERNET, android.intent.action.PACKAGE_REPLACED, Binder, android.intent.action.SEND_MULTIPLE, RECORD_AUDIO, IBinder, android.os.IBinder, createSubprocess, NFC, ACCESS_LOCATION_EXTRA_COMMANDS, URLClassLoader, WRITE_APN_SETTINGS, abortBroadcast, BIND_REMOTEVIEWS, android.intent.action.TIME_SET, READ_PROFILE, TelephonyManager.getDeviceId, MODIFY_AUDIO_SETTINGS, getCallingPid, READ_SYNC_STATS, BROADCAST_STICKY, android.intent.action.PACKAGE_REMOVED, android.intent.action.TIMEZONE_CHANGED, WAKE_LOCK, RECEIVE_BOOT_COMPLETED, RESTART_PACKAGES, Ljava.lang.Class.getPackage, chmod, Ljava.lang.Class.getDeclaredClasses, android.intent.action.ACTION_POWER_DISCONNECTED, android.intent.action.PACKAGE_ADDED, PathClassLoader, TelephonyManager.getSimSerialNumber, Runtime.load, TelephonyManager.getCallState, BLUETOOTH, READ_CALENDAR, READ_CALL_LOG, SUBSCRIBED_FEEDS_WRITE, READ_EXTERNAL_STORAGE, sendMultipartTextMessage, PackageInstaller, VIBRATE, remount, android.intent.action.ACTION_SHUTDOWN, sendDataMessage, ACCESS_NETWORK_STATE, chown, HttpPost.init, Ljava.lang.Class.getClasses, SUBSCRIBED_FEEDS_READ, TelephonyManager.isNetworkRoaming, CHANGE_WIFI_MULTICAST_STATE, WRITE_CALENDAR, android.intent.action.PACKAGE_DATA_CLEARED, MASTER_CLEAR, HttpUriRequest, UPDATE_DEVICE_STATS, WRITE_CALL_LOG, DELETE_PACKAGES, GET_TASKS, GLOBAL_SEARCH, DELETE_CACHE_FILES, WRITE_USER_DICTIONARY, android.intent.action.PACKAGE_CHANGED, android.intent.action.NEW_OUTGOING_CALL, REORDER_TASKS, WRITE_PROFILE, SET_WALLPAPER, BIND_INPUT_METHOD, divideMessage, READ_SOCIAL_STREAM, READ_USER_DICTIONARY, PROCESS_OUTGOING_CALLS, CALL_PRIVILEGED, Runtime.exec, BIND_WALLPAPER, RECEIVE_WAP_PUSH, DUMP, BATTERY_STATS, ACCESS_COARSE_LOCATION, SET_TIME, android.intent.action.SENDTO, WRITE_SOCIAL_STREAM, WRITE_SETTINGS, REBOOT, BLUETOOTH_ADMIN, TelephonyManager.getNetworkOperator, /system/bin, MessengerService, BIND_DEVICE_ADMIN, WRITE_GSERVICES, IRemoteService, KILL_BACKGROUND_PROCESSES, SET_ALARM, ACCOUNT_MANAGER, /system/app, android.intent.action.CALL, STATUS_BAR, TelephonyManager.getSimOperator, PERSISTENT_ACTIVITY, CHANGE_NETWORK_STATE, onBind, Process.start, android.intent.action.SCREEN_ON, Context.bindService, RECEIVE_MMS, SET_TIME_ZONE, android.intent.action.BATTERY_OKAY, CONTROL_LOCATION_UPDATES, BROADCAST_WAP_PUSH, BIND_ACCESSIBILITY_SERVICE, ADD_VOICEMAIL, CALL_PHONE, ProcessBuilder, BIND_APPWIDGET, FLASHLIGHT, READ_LOGS, Ljava.lang.Class.getResource, defineClass, SET_PROCESS_LIMIT, android.intent.action.PACKAGE_RESTARTED, MOUNT_UNMOUNT_FILESYSTEMS, BIND_TEXT_SERVICE, INSTALL_LOCATION_PROVIDER, android.intent.action.CALL_BUTTON, android.intent.action.SCREEN_OFF, findClass, SYSTEM_ALERT_WINDOW, MOUNT_FORMAT_FILESYSTEMS, CHANGE_CONFIGURATION, CLEAR_APP_USER_DATA, intent.action.RUN, android.intent.action.SET_WALLPAPER, CHANGE_WIFI_STATE, READ_FRAME_BUFFER, ACCESS_SURFACE_FLINGER, Runtime.loadLibrary, BROADCAST_SMS, EXPAND_STATUS_BAR, INTERNAL_SYSTEM_WINDOW, android.intent.action.BATTERY_LOW, SET_ACTIVITY_WATCHER, WRITE_CONTACTS, android.intent.action.ACTION_POWER_CONNECTED, BIND_VPN_SERVICE, DISABLE_KEYGUARD, ACCESS_MOCK_LOCATION, GET_PACKAGE_SIZE, MODIFY_PHONE_STATE, CHANGE_COMPONENT_ENABLED_STATE, CLEAR_APP_CACHE, SET_ORIENTATION, READ_CONTACTS, DEVICE_POWER, HARDWARE_TEST, ACCESS_WIFI_STATE, WRITE_EXTERNAL_STORAGE, ACCESS_FINE_LOCATION, SET_WALLPAPER_HINTS, SET_PREFERRED_APPLICATIONS, WRITE_SECURE_SETTINGS, class\n",
      "object: TelephonyManager.getSimCountryIso\n"
     ]
    }
   ],
   "source": [
    "import pandas as pd\n",
    "\n",
    "def check_data_types(data):\n",
    "    data_types_count = {}\n",
    "    columns_with_types = {}\n",
    "\n",
    "    for column in data.columns:\n",
    "        data_type = data[column].dtype\n",
    "        data_types_count[str(data_type)] = data_types_count.get(str(data_type), 0) + 1\n",
    "        columns_with_types.setdefault(str(data_type), []).append(column)\n",
    "\n",
    "    return data_types_count, columns_with_types\n",
    "\n",
    "\n",
    "\n",
    "data_types_count, columns_with_types = check_data_types(data)\n",
    "\n",
    "print(\"Veri Tipleri ve Sayıları:\")\n",
    "for data_type, count in data_types_count.items():\n",
    "    print(f\"{data_type}: {count}\")\n",
    "\n",
    "print(\"\\nHer Kolondaki Veri Tipleri:\")\n",
    "for data_type, columns in columns_with_types.items():\n",
    "    print(f\"{data_type}: {', '.join(columns)}\")\n"
   ]
  },
  {
   "cell_type": "markdown",
   "metadata": {},
   "source": [
    "## Kolon Bulma"
   ]
  },
  {
   "cell_type": "code",
   "execution_count": 11,
   "metadata": {},
   "outputs": [],
   "source": [
    "import pandas as pd\n",
    "\n",
    "def kolon_bul(kolonName):\n",
    "    if kolonName in data.columns:\n",
    "        # Kolonun içerdiği değerleri yazdır\n",
    "        print(f\"{kolonName} Kolonu Değerleri:\\n{data[kolonName].values}\")\n",
    "\n",
    "        # Kolondaki eleman sayısını yazdır\n",
    "        eleman_sayisi = data[kolonName].count()\n",
    "        print(f\"{kolonName} Kolonundaki Eleman Sayısı: {eleman_sayisi}\")\n",
    "\n",
    "    else:\n",
    "        print(f\"{kolonName} Kolonu bulunamadı.\")\n",
    "        print(\"Kolonlar:\", data.columns)\n",
    "        print(\"Toplam Kolon Sayısı:\", len(data.columns))\n",
    "\n"
   ]
  },
  {
   "cell_type": "code",
   "execution_count": 12,
   "metadata": {},
   "outputs": [
    {
     "name": "stdout",
     "output_type": "stream",
     "text": [
      "TelephonyManager.getSimCountryIso Kolonu Değerleri:\n",
      "['0' '0' '0' ... 0 0 1]\n",
      "TelephonyManager.getSimCountryIso Kolonundaki Eleman Sayısı: 15036\n"
     ]
    }
   ],
   "source": [
    "kolon_bul(\"TelephonyManager.getSimCountryIso\")"
   ]
  },
  {
   "cell_type": "markdown",
   "metadata": {},
   "source": [
    "## Kolon Silme"
   ]
  },
  {
   "cell_type": "code",
   "execution_count": 13,
   "metadata": {},
   "outputs": [],
   "source": [
    "def gereksiz_stunları_sil(df, sutunName):\n",
    "  df = df.drop(sutunName, axis=1)\n",
    "  return df"
   ]
  },
  {
   "cell_type": "code",
   "execution_count": 14,
   "metadata": {},
   "outputs": [],
   "source": [
    "data=gereksiz_stunları_sil(data ,['TelephonyManager.getSimCountryIso'])"
   ]
  },
  {
   "cell_type": "markdown",
   "metadata": {},
   "source": [
    "## EĞİTİM TEST BÖLME "
   ]
  },
  {
   "cell_type": "code",
   "execution_count": 15,
   "metadata": {},
   "outputs": [],
   "source": [
    "y = data[\"class\"]\n",
    "x = data.drop(\"class\", axis=1)"
   ]
  },
  {
   "cell_type": "code",
   "execution_count": 16,
   "metadata": {},
   "outputs": [
    {
     "name": "stdout",
     "output_type": "stream",
     "text": [
      "x:  (15036, 214)\n",
      "y:  (15036,)\n"
     ]
    }
   ],
   "source": [
    "print(\"x: \",x.shape)\n",
    "print(\"y: \",y.shape)"
   ]
  },
  {
   "cell_type": "code",
   "execution_count": 35,
   "metadata": {},
   "outputs": [
    {
     "name": "stdout",
     "output_type": "stream",
     "text": [
      "       transact  onServiceConnected  bindService  attachInterface  \\\n",
      "13309         0                   0            0                0   \n",
      "12832         1                   1            1                1   \n",
      "6393          0                   0            0                0   \n",
      "4990          1                   1            1                1   \n",
      "12460         1                   1            1                1   \n",
      "...         ...                 ...          ...              ...   \n",
      "7677          0                   0            0                0   \n",
      "8257          0                   0            0                0   \n",
      "13090         0                   0            0                0   \n",
      "2699          0                   0            0                0   \n",
      "7760          0                   0            0                0   \n",
      "\n",
      "       ServiceConnection  android.os.Binder  SEND_SMS  \\\n",
      "13309                  0                  0         0   \n",
      "12832                  1                  1         0   \n",
      "6393                   0                  1         0   \n",
      "4990                   1                  1         0   \n",
      "12460                  1                  1         0   \n",
      "...                  ...                ...       ...   \n",
      "7677                   0                  0         0   \n",
      "8257                   0                  1         0   \n",
      "13090                  0                  0         0   \n",
      "2699                   0                  0         0   \n",
      "7760                   0                  1         1   \n",
      "\n",
      "       Ljava.lang.Class.getCanonicalName  Ljava.lang.Class.getMethods  \\\n",
      "13309                                  0                            0   \n",
      "12832                                  1                            0   \n",
      "6393                                   0                            0   \n",
      "4990                                   0                            1   \n",
      "12460                                  1                            1   \n",
      "...                                  ...                          ...   \n",
      "7677                                   0                            0   \n",
      "8257                                   0                            0   \n",
      "13090                                  0                            0   \n",
      "2699                                   0                            0   \n",
      "7760                                   0                            0   \n",
      "\n",
      "       Ljava.lang.Class.cast  ...  SET_ORIENTATION  READ_CONTACTS  \\\n",
      "13309                      0  ...                0              0   \n",
      "12832                      0  ...                0              0   \n",
      "6393                       0  ...                0              0   \n",
      "4990                       0  ...                0              0   \n",
      "12460                      1  ...                0              0   \n",
      "...                      ...  ...              ...            ...   \n",
      "7677                       0  ...                0              0   \n",
      "8257                       0  ...                0              0   \n",
      "13090                      0  ...                0              0   \n",
      "2699                       0  ...                0              1   \n",
      "7760                       0  ...                0              1   \n",
      "\n",
      "       DEVICE_POWER  HARDWARE_TEST  ACCESS_WIFI_STATE  WRITE_EXTERNAL_STORAGE  \\\n",
      "13309             0              0                  0                       0   \n",
      "12832             0              0                  1                       1   \n",
      "6393              0              0                  1                       0   \n",
      "4990              0              0                  0                       0   \n",
      "12460             0              0                  1                       1   \n",
      "...             ...            ...                ...                     ...   \n",
      "7677              0              0                  0                       0   \n",
      "8257              0              0                  1                       1   \n",
      "13090             0              0                  0                       0   \n",
      "2699              0              0                  1                       1   \n",
      "7760              1              0                  0                       1   \n",
      "\n",
      "       ACCESS_FINE_LOCATION  SET_WALLPAPER_HINTS  SET_PREFERRED_APPLICATIONS  \\\n",
      "13309                     0                    0                           0   \n",
      "12832                     0                    0                           0   \n",
      "6393                      0                    0                           0   \n",
      "4990                      0                    0                           0   \n",
      "12460                     0                    0                           0   \n",
      "...                     ...                  ...                         ...   \n",
      "7677                      0                    0                           0   \n",
      "8257                      0                    0                           0   \n",
      "13090                     0                    0                           0   \n",
      "2699                      1                    0                           0   \n",
      "7760                      0                    0                           0   \n",
      "\n",
      "       WRITE_SECURE_SETTINGS  \n",
      "13309                      0  \n",
      "12832                      0  \n",
      "6393                       0  \n",
      "4990                       0  \n",
      "12460                      0  \n",
      "...                      ...  \n",
      "7677                       0  \n",
      "8257                       0  \n",
      "13090                      0  \n",
      "2699                       0  \n",
      "7760                       1  \n",
      "\n",
      "[3008 rows x 214 columns]\n"
     ]
    }
   ],
   "source": [
    "X_train, X_test, y_train, y_test = train_test_split(x, y, test_size=0.2, random_state=42)\n",
    "print(X_test)"
   ]
  },
  {
   "cell_type": "code",
   "execution_count": 18,
   "metadata": {},
   "outputs": [
    {
     "name": "stdout",
     "output_type": "stream",
     "text": [
      "X_train:  (12028, 214)\n",
      "X_test:  (3008, 214)\n",
      "y_train:  (12028,)\n",
      "y_test:  (3008,)\n"
     ]
    }
   ],
   "source": [
    "print(\"X_train: \",X_train.shape)\n",
    "print(\"X_test: \",X_test.shape)\n",
    "print(\"y_train: \",y_train.shape)\n",
    "print(\"y_test: \",y_test.shape)"
   ]
  },
  {
   "cell_type": "code",
   "execution_count": 19,
   "metadata": {},
   "outputs": [],
   "source": [
    "Tümsonuclar= {}"
   ]
  },
  {
   "cell_type": "markdown",
   "metadata": {},
   "source": [
    "## LogisticRegression"
   ]
  },
  {
   "cell_type": "code",
   "execution_count": 20,
   "metadata": {},
   "outputs": [
    {
     "name": "stdout",
     "output_type": "stream",
     "text": [
      "Model Doğruluk Oranı: 0.97\n"
     ]
    }
   ],
   "source": [
    "Tümsonuclar = {}\n",
    "\n",
    "modelLR = LogisticRegression()\n",
    "modelLR.fit(X_train, y_train)\n",
    "\n",
    "y_pred = modelLR.predict(X_test)\n",
    "\n",
    "accuracy = accuracy_score(y_test, y_pred)\n",
    "\n",
    "print(f\"Model Doğruluk Oranı: {accuracy:.2f}\")\n",
    "\n",
    "Tümsonuclar[\"modelLR\"] = accuracy\n"
   ]
  },
  {
   "cell_type": "markdown",
   "metadata": {},
   "source": [
    "## Hata Matrisi modelR"
   ]
  },
  {
   "cell_type": "code",
   "execution_count": 21,
   "metadata": {},
   "outputs": [],
   "source": [
    "# y_pred = modelLR.predict(X_test)\n",
    "# confusion_matrix = confusion_matrix(y_test, y_pred)\n",
    "# print(confusion_matrix)\n",
    "# sns.heatmap(confusion_matrix, annot=True, fmt=\"d\", cmap=\"YlGnBu\")\n",
    "# plt.xlabel(\"Tahmin\")\n",
    "# plt.ylabel(\"Gerçek Değer\")\n",
    "# plt.show()"
   ]
  },
  {
   "cell_type": "markdown",
   "metadata": {},
   "source": [
    "## SVC"
   ]
  },
  {
   "cell_type": "code",
   "execution_count": 22,
   "metadata": {},
   "outputs": [
    {
     "name": "stdout",
     "output_type": "stream",
     "text": [
      "Model doğruluk oranı: 0.98\n"
     ]
    }
   ],
   "source": [
    "from sklearn.svm import SVC\n",
    "\n",
    "modelSVM = SVC()\n",
    "modelSVM.fit(X_train, y_train)\n",
    "\n",
    "y_pred = modelSVM.predict(X_test)\n",
    "\n",
    "accuracy = accuracy_score(y_test, y_pred)\n",
    "print(f\"Model doğruluk oranı: {accuracy:.2f}\")\n",
    "Tümsonuclar[\"modelSVM\"] = accuracy\n"
   ]
  },
  {
   "cell_type": "markdown",
   "metadata": {},
   "source": [
    "## Hata Matrisi modelSVM"
   ]
  },
  {
   "cell_type": "code",
   "execution_count": 23,
   "metadata": {},
   "outputs": [],
   "source": [
    "# y_pred = modelSVM.predict(X_test)\n",
    "# confusion_matrix = confusion_matrix(y_test, y_pred)\n",
    "# print(confusion_matrix)\n",
    "# sns.heatmap(confusion_matrix, annot=True, fmt=\"d\", cmap=\"YlGnBu\")\n",
    "# plt.xlabel(\"Tahmin\")\n",
    "# plt.ylabel(\"Gerçek Değer\")\n",
    "# plt.show()"
   ]
  },
  {
   "cell_type": "markdown",
   "metadata": {},
   "source": [
    "## DecisionTreeClassifier"
   ]
  },
  {
   "cell_type": "code",
   "execution_count": 24,
   "metadata": {},
   "outputs": [
    {
     "name": "stdout",
     "output_type": "stream",
     "text": [
      "Model Doğruluk Oranı: 0.98\n"
     ]
    }
   ],
   "source": [
    "from sklearn.tree import DecisionTreeClassifier\n",
    "\n",
    "modelDT = DecisionTreeClassifier()\n",
    "modelDT.fit(X_train, y_train)\n",
    "\n",
    "y_pred = modelDT.predict(X_test)\n",
    "\n",
    "accuracy = accuracy_score(y_test, y_pred)\n",
    "\n",
    "print(f\"Model Doğruluk Oranı: {accuracy:.2f}\")\n",
    "\n",
    "Tümsonuclar[\"modelDT\"] = accuracy"
   ]
  },
  {
   "cell_type": "markdown",
   "metadata": {},
   "source": [
    "## Hata Matrisi modelDT"
   ]
  },
  {
   "cell_type": "code",
   "execution_count": 25,
   "metadata": {},
   "outputs": [],
   "source": [
    "# y_pred = modelDT.predict(X_test)\n",
    "# confusion_matrix = confusion_matrix(y_test, y_pred)\n",
    "# print(confusion_matrix)\n",
    "# sns.heatmap(confusion_matrix, annot=True, fmt=\"d\", cmap=\"YlGnBu\")\n",
    "# plt.xlabel(\"Tahmin\")\n",
    "# plt.ylabel(\"Gerçek Değer\")\n",
    "# plt.show()"
   ]
  },
  {
   "cell_type": "markdown",
   "metadata": {},
   "source": [
    "## RandomForestClassifier"
   ]
  },
  {
   "cell_type": "code",
   "execution_count": 26,
   "metadata": {},
   "outputs": [
    {
     "name": "stdout",
     "output_type": "stream",
     "text": [
      "Model Doğruluk Oranı: 0.99\n"
     ]
    }
   ],
   "source": [
    "from sklearn.ensemble import RandomForestClassifier\n",
    "\n",
    "modelRF = RandomForestClassifier()\n",
    "modelRF.fit(X_train, y_train)\n",
    "\n",
    "y_pred = modelRF.predict(X_test)\n",
    "\n",
    "accuracy = accuracy_score(y_test, y_pred)\n",
    "\n",
    "print(f\"Model Doğruluk Oranı: {accuracy:.2f}\")\n",
    "Tümsonuclar[\"modelRF\"] = accuracy"
   ]
  },
  {
   "cell_type": "markdown",
   "metadata": {},
   "source": [
    "## Hata Matrisi modelRF"
   ]
  },
  {
   "cell_type": "code",
   "execution_count": 27,
   "metadata": {},
   "outputs": [],
   "source": [
    "\n",
    "# y_pred = modelRF.predict(X_test)\n",
    "# confusion_matrix = confusion_matrix(y_test, y_pred)\n",
    "# print(confusion_matrix)\n",
    "# sns.heatmap(confusion_matrix, annot=True, fmt=\"d\", cmap=\"YlGnBu\")\n",
    "# plt.xlabel(\"Tahmin\")\n",
    "# plt.ylabel(\"Gerçek Değer\")\n",
    "# plt.show()"
   ]
  },
  {
   "cell_type": "markdown",
   "metadata": {},
   "source": [
    "## MLPClassifier"
   ]
  },
  {
   "cell_type": "code",
   "execution_count": 28,
   "metadata": {},
   "outputs": [
    {
     "name": "stdout",
     "output_type": "stream",
     "text": [
      "Model Doğruluk Oranı: 0.99\n"
     ]
    }
   ],
   "source": [
    "from sklearn.neural_network import MLPClassifier\n",
    "\n",
    "modelMLP = MLPClassifier()\n",
    "modelMLP.fit(X_train, y_train)\n",
    "\n",
    "y_pred = modelMLP.predict(X_test)\n",
    "\n",
    "accuracy = accuracy_score(y_test, y_pred)\n",
    "\n",
    "print(f\"Model Doğruluk Oranı: {accuracy:.2f}\")\n",
    "\n",
    "Tümsonuclar[\"modelMLP\"] = accuracy"
   ]
  },
  {
   "cell_type": "markdown",
   "metadata": {},
   "source": [
    "## Hata Matrisi modelMLP"
   ]
  },
  {
   "cell_type": "code",
   "execution_count": 29,
   "metadata": {},
   "outputs": [],
   "source": [
    "# y_pred = modelMLP.predict(X_test)\n",
    "# confusion_matrix = confusion_matrix(y_test, y_pred)\n",
    "# print(confusion_matrix)\n",
    "# sns.heatmap(confusion_matrix, annot=True, fmt=\"d\", cmap=\"YlGnBu\")\n",
    "# plt.xlabel(\"Tahmin\")\n",
    "# plt.ylabel(\"Gerçek Değer\")\n",
    "# plt.show()"
   ]
  },
  {
   "cell_type": "markdown",
   "metadata": {},
   "source": [
    "## GaussianNB"
   ]
  },
  {
   "cell_type": "code",
   "execution_count": 30,
   "metadata": {},
   "outputs": [
    {
     "name": "stdout",
     "output_type": "stream",
     "text": [
      "Model Doğruluk Oranı: 0.71\n"
     ]
    }
   ],
   "source": [
    "from sklearn.naive_bayes import GaussianNB\n",
    "\n",
    "modelGNB = GaussianNB()\n",
    "modelGNB.fit(X_train, y_train)\n",
    "\n",
    "y_pred = modelGNB.predict(X_test)\n",
    "\n",
    "accuracy = accuracy_score(y_test, y_pred)\n",
    "\n",
    "print(f\"Model Doğruluk Oranı: {accuracy:.2f}\")\n",
    "\n",
    "Tümsonuclar[\"modelGNB\"] = accuracy\n"
   ]
  },
  {
   "cell_type": "markdown",
   "metadata": {},
   "source": [
    "## Hata Matrisi modelGNB"
   ]
  },
  {
   "cell_type": "code",
   "execution_count": 31,
   "metadata": {},
   "outputs": [],
   "source": [
    "# y_pred = modelGNB.predict(X_test)\n",
    "# confusion_matrix = confusion_matrix(y_test, y_pred)\n",
    "# print(confusion_matrix)\n",
    "# sns.heatmap(confusion_matrix, annot=True, fmt=\"d\", cmap=\"YlGnBu\")\n",
    "# plt.xlabel(\"Tahmin\")\n",
    "# plt.ylabel(\"Gerçek Değer\")\n",
    "# plt.show()"
   ]
  },
  {
   "cell_type": "markdown",
   "metadata": {},
   "source": [
    "## ÇOK SINIFLI SINIFLANDIRMA"
   ]
  },
  {
   "cell_type": "code",
   "execution_count": 32,
   "metadata": {},
   "outputs": [],
   "source": [
    "def cok_sinifli_siniflandirma(Tümsonuclar):\n",
    "    max_anahtar = max(Tümsonuclar, key=Tümsonuclar.get)\n",
    "    max_deger = Tümsonuclar[max_anahtar]\n",
    "    print(max_anahtar,max_deger)"
   ]
  },
  {
   "cell_type": "code",
   "execution_count": 33,
   "metadata": {},
   "outputs": [
    {
     "name": "stdout",
     "output_type": "stream",
     "text": [
      "modelRF 0.9876994680851063\n"
     ]
    }
   ],
   "source": [
    "cok_sinifli_siniflandirma(Tümsonuclar)"
   ]
  },
  {
   "cell_type": "code",
   "execution_count": null,
   "metadata": {},
   "outputs": [],
   "source": []
  }
 ],
 "metadata": {
  "kernelspec": {
   "display_name": "Python 3",
   "language": "python",
   "name": "python3"
  },
  "language_info": {
   "codemirror_mode": {
    "name": "ipython",
    "version": 3
   },
   "file_extension": ".py",
   "mimetype": "text/x-python",
   "name": "python",
   "nbconvert_exporter": "python",
   "pygments_lexer": "ipython3",
   "version": "3.10.12"
  }
 },
 "nbformat": 4,
 "nbformat_minor": 2
}
