{
 "cells": [
  {
   "cell_type": "code",
   "execution_count": 11,
   "metadata": {},
   "outputs": [],
   "source": [
    "import numpy as np \n",
    "import pandas as pd\n",
    "import matplotlib.pyplot as plt\n",
    "from sklearn.model_selection import train_test_split"
   ]
  },
  {
   "cell_type": "code",
   "execution_count": 12,
   "metadata": {},
   "outputs": [
    {
     "name": "stderr",
     "output_type": "stream",
     "text": [
      "/tmp/ipykernel_13355/308951669.py:1: DtypeWarning: Columns (92) have mixed types. Specify dtype option on import or set low_memory=False.\n",
      "  data = pd.read_csv(\"drebin-215-dataset-5560malware-9476-benign.csv\")\n"
     ]
    },
    {
     "data": {
      "text/html": [
       "<div>\n",
       "<style scoped>\n",
       "    .dataframe tbody tr th:only-of-type {\n",
       "        vertical-align: middle;\n",
       "    }\n",
       "\n",
       "    .dataframe tbody tr th {\n",
       "        vertical-align: top;\n",
       "    }\n",
       "\n",
       "    .dataframe thead th {\n",
       "        text-align: right;\n",
       "    }\n",
       "</style>\n",
       "<table border=\"1\" class=\"dataframe\">\n",
       "  <thead>\n",
       "    <tr style=\"text-align: right;\">\n",
       "      <th></th>\n",
       "      <th>transact</th>\n",
       "      <th>onServiceConnected</th>\n",
       "      <th>bindService</th>\n",
       "      <th>attachInterface</th>\n",
       "      <th>ServiceConnection</th>\n",
       "      <th>android.os.Binder</th>\n",
       "      <th>SEND_SMS</th>\n",
       "      <th>Ljava.lang.Class.getCanonicalName</th>\n",
       "      <th>Ljava.lang.Class.getMethods</th>\n",
       "      <th>Ljava.lang.Class.cast</th>\n",
       "      <th>...</th>\n",
       "      <th>READ_CONTACTS</th>\n",
       "      <th>DEVICE_POWER</th>\n",
       "      <th>HARDWARE_TEST</th>\n",
       "      <th>ACCESS_WIFI_STATE</th>\n",
       "      <th>WRITE_EXTERNAL_STORAGE</th>\n",
       "      <th>ACCESS_FINE_LOCATION</th>\n",
       "      <th>SET_WALLPAPER_HINTS</th>\n",
       "      <th>SET_PREFERRED_APPLICATIONS</th>\n",
       "      <th>WRITE_SECURE_SETTINGS</th>\n",
       "      <th>class</th>\n",
       "    </tr>\n",
       "  </thead>\n",
       "  <tbody>\n",
       "    <tr>\n",
       "      <th>0</th>\n",
       "      <td>0</td>\n",
       "      <td>0</td>\n",
       "      <td>0</td>\n",
       "      <td>0</td>\n",
       "      <td>0</td>\n",
       "      <td>0</td>\n",
       "      <td>1</td>\n",
       "      <td>0</td>\n",
       "      <td>0</td>\n",
       "      <td>0</td>\n",
       "      <td>...</td>\n",
       "      <td>0</td>\n",
       "      <td>0</td>\n",
       "      <td>0</td>\n",
       "      <td>0</td>\n",
       "      <td>1</td>\n",
       "      <td>0</td>\n",
       "      <td>0</td>\n",
       "      <td>0</td>\n",
       "      <td>0</td>\n",
       "      <td>S</td>\n",
       "    </tr>\n",
       "    <tr>\n",
       "      <th>1</th>\n",
       "      <td>0</td>\n",
       "      <td>0</td>\n",
       "      <td>0</td>\n",
       "      <td>0</td>\n",
       "      <td>0</td>\n",
       "      <td>0</td>\n",
       "      <td>1</td>\n",
       "      <td>0</td>\n",
       "      <td>0</td>\n",
       "      <td>0</td>\n",
       "      <td>...</td>\n",
       "      <td>0</td>\n",
       "      <td>0</td>\n",
       "      <td>0</td>\n",
       "      <td>0</td>\n",
       "      <td>1</td>\n",
       "      <td>0</td>\n",
       "      <td>0</td>\n",
       "      <td>0</td>\n",
       "      <td>0</td>\n",
       "      <td>S</td>\n",
       "    </tr>\n",
       "    <tr>\n",
       "      <th>2</th>\n",
       "      <td>0</td>\n",
       "      <td>0</td>\n",
       "      <td>0</td>\n",
       "      <td>0</td>\n",
       "      <td>0</td>\n",
       "      <td>0</td>\n",
       "      <td>1</td>\n",
       "      <td>0</td>\n",
       "      <td>0</td>\n",
       "      <td>0</td>\n",
       "      <td>...</td>\n",
       "      <td>0</td>\n",
       "      <td>0</td>\n",
       "      <td>0</td>\n",
       "      <td>0</td>\n",
       "      <td>0</td>\n",
       "      <td>0</td>\n",
       "      <td>0</td>\n",
       "      <td>0</td>\n",
       "      <td>0</td>\n",
       "      <td>S</td>\n",
       "    </tr>\n",
       "    <tr>\n",
       "      <th>3</th>\n",
       "      <td>0</td>\n",
       "      <td>0</td>\n",
       "      <td>0</td>\n",
       "      <td>0</td>\n",
       "      <td>0</td>\n",
       "      <td>0</td>\n",
       "      <td>0</td>\n",
       "      <td>0</td>\n",
       "      <td>0</td>\n",
       "      <td>1</td>\n",
       "      <td>...</td>\n",
       "      <td>0</td>\n",
       "      <td>0</td>\n",
       "      <td>0</td>\n",
       "      <td>1</td>\n",
       "      <td>1</td>\n",
       "      <td>1</td>\n",
       "      <td>0</td>\n",
       "      <td>0</td>\n",
       "      <td>0</td>\n",
       "      <td>S</td>\n",
       "    </tr>\n",
       "    <tr>\n",
       "      <th>4</th>\n",
       "      <td>0</td>\n",
       "      <td>0</td>\n",
       "      <td>0</td>\n",
       "      <td>0</td>\n",
       "      <td>0</td>\n",
       "      <td>0</td>\n",
       "      <td>0</td>\n",
       "      <td>0</td>\n",
       "      <td>0</td>\n",
       "      <td>0</td>\n",
       "      <td>...</td>\n",
       "      <td>0</td>\n",
       "      <td>0</td>\n",
       "      <td>0</td>\n",
       "      <td>1</td>\n",
       "      <td>0</td>\n",
       "      <td>1</td>\n",
       "      <td>0</td>\n",
       "      <td>0</td>\n",
       "      <td>0</td>\n",
       "      <td>S</td>\n",
       "    </tr>\n",
       "  </tbody>\n",
       "</table>\n",
       "<p>5 rows × 216 columns</p>\n",
       "</div>"
      ],
      "text/plain": [
       "   transact  onServiceConnected  bindService  attachInterface  \\\n",
       "0         0                   0            0                0   \n",
       "1         0                   0            0                0   \n",
       "2         0                   0            0                0   \n",
       "3         0                   0            0                0   \n",
       "4         0                   0            0                0   \n",
       "\n",
       "   ServiceConnection  android.os.Binder  SEND_SMS  \\\n",
       "0                  0                  0         1   \n",
       "1                  0                  0         1   \n",
       "2                  0                  0         1   \n",
       "3                  0                  0         0   \n",
       "4                  0                  0         0   \n",
       "\n",
       "   Ljava.lang.Class.getCanonicalName  Ljava.lang.Class.getMethods  \\\n",
       "0                                  0                            0   \n",
       "1                                  0                            0   \n",
       "2                                  0                            0   \n",
       "3                                  0                            0   \n",
       "4                                  0                            0   \n",
       "\n",
       "   Ljava.lang.Class.cast  ...  READ_CONTACTS  DEVICE_POWER  HARDWARE_TEST  \\\n",
       "0                      0  ...              0             0              0   \n",
       "1                      0  ...              0             0              0   \n",
       "2                      0  ...              0             0              0   \n",
       "3                      1  ...              0             0              0   \n",
       "4                      0  ...              0             0              0   \n",
       "\n",
       "   ACCESS_WIFI_STATE  WRITE_EXTERNAL_STORAGE  ACCESS_FINE_LOCATION  \\\n",
       "0                  0                       1                     0   \n",
       "1                  0                       1                     0   \n",
       "2                  0                       0                     0   \n",
       "3                  1                       1                     1   \n",
       "4                  1                       0                     1   \n",
       "\n",
       "   SET_WALLPAPER_HINTS  SET_PREFERRED_APPLICATIONS  WRITE_SECURE_SETTINGS  \\\n",
       "0                    0                           0                      0   \n",
       "1                    0                           0                      0   \n",
       "2                    0                           0                      0   \n",
       "3                    0                           0                      0   \n",
       "4                    0                           0                      0   \n",
       "\n",
       "   class  \n",
       "0      S  \n",
       "1      S  \n",
       "2      S  \n",
       "3      S  \n",
       "4      S  \n",
       "\n",
       "[5 rows x 216 columns]"
      ]
     },
     "execution_count": 12,
     "metadata": {},
     "output_type": "execute_result"
    }
   ],
   "source": [
    "data = pd.read_csv(\"drebin-215-dataset-5560malware-9476-benign.csv\")\n",
    "data.head()\n"
   ]
  },
  {
   "cell_type": "code",
   "execution_count": 60,
   "metadata": {},
   "outputs": [
    {
     "data": {
      "text/plain": [
       "(15036, 216)"
      ]
     },
     "execution_count": 60,
     "metadata": {},
     "output_type": "execute_result"
    }
   ],
   "source": [
    "data.shape"
   ]
  },
  {
   "cell_type": "code",
   "execution_count": 13,
   "metadata": {},
   "outputs": [
    {
     "name": "stdout",
     "output_type": "stream",
     "text": [
      "veri sayısı:  3247776\n",
      "boyutu:  15036\n"
     ]
    }
   ],
   "source": [
    "print(\"veri sayısı: \",data.count().sum())\n",
    "print(\"boyutu: \",len(data))"
   ]
  },
  {
   "cell_type": "code",
   "execution_count": 14,
   "metadata": {},
   "outputs": [
    {
     "data": {
      "text/plain": [
       "0"
      ]
     },
     "execution_count": 14,
     "metadata": {},
     "output_type": "execute_result"
    }
   ],
   "source": [
    "data.isnull().sum().sum()"
   ]
  },
  {
   "cell_type": "code",
   "execution_count": 21,
   "metadata": {},
   "outputs": [
    {
     "data": {
      "image/png": "[encoded data removed]",
      "text/plain": [
       "<Figure size 640x480 with 1 Axes>"
      ]
     },
     "metadata": {},
     "output_type": "display_data"
    }
   ],
   "source": [
    "plt.hist(data[\"class\"])\n",
    "plt.xlabel(\"Class\")\n",
    "plt.ylabel(\"Count\")\n",
    "plt.show()"
   ]
  },
  {
   "cell_type": "code",
   "execution_count": 58,
   "metadata": {},
   "outputs": [
    {
     "data": {
      "image/png": "[encoded data removed]",
      "text/plain": [
       "<Figure size 640x480 with 1 Axes>"
      ]
     },
     "metadata": {},
     "output_type": "display_data"
    }
   ],
   "source": [
    "import pandas as pd\n",
    "\n",
    "# class,B=Benign; S=Malware\n",
    "# 'class' kolonundaki 'S' olanları 1, 'B' olanları 0 yapın\n",
    "data['class'] = data['class'].apply(lambda x: 1 if x == 'S' else 0)\n",
    "\n",
    "plt.hist(data[\"class\"])\n",
    "plt.xlabel(\"Class\")\n",
    "plt.ylabel(\"Count\")\n",
    "plt.show()\n",
    "\n"
   ]
  },
  {
   "cell_type": "code",
   "execution_count": 26,
   "metadata": {},
   "outputs": [],
   "source": [
    "def kolonda_kelime_bulma(kelime):\n",
    "    kolon_isimleri = data.columns\n",
    "    signature_kolonlari = [kolon for kolon in kolon_isimleri if kelime in kolon]\n",
    "    \n",
    "    print(kelime, \" İçeren Kolon İsimleri:\")\n",
    "    for indeks, kolon in enumerate(signature_kolonlari):\n",
    "        print(f\"  {kolon} - İndeks: {indeks}\")\n",
    "    \n",
    "    print(\"Eleman sayisi:\", len(signature_kolonlari))"
   ]
  },
  {
   "cell_type": "code",
   "execution_count": 27,
   "metadata": {},
   "outputs": [
    {
     "name": "stdout",
     "output_type": "stream",
     "text": [
      "bindService  İçeren Kolon İsimleri:\n",
      "  bindService - İndeks: 0\n",
      "  Context.bindService - İndeks: 1\n",
      "Eleman sayisi: 2\n"
     ]
    }
   ],
   "source": [
    "kolonda_kelime_bulma(\"bindService\")"
   ]
  },
  {
   "cell_type": "code",
   "execution_count": 28,
   "metadata": {},
   "outputs": [
    {
     "data": {
      "image/png": "[encoded data removed]",
      "text/plain": [
       "<Figure size 640x480 with 1 Axes>"
      ]
     },
     "metadata": {},
     "output_type": "display_data"
    }
   ],
   "source": [
    "import pandas as pd\n",
    "import matplotlib.pyplot as plt\n",
    "\n",
    "def plot_data_types(data):\n",
    "    data_types_count = {}\n",
    "\n",
    "    for column in data.columns:\n",
    "        data_type = str(data[column].dtype)\n",
    "        data_types_count[column] = data_types_count.get(data_type, 0) + 1\n",
    "\n",
    "    plt.bar(data_types_count.keys(), data_types_count.values())\n",
    "    plt.xlabel('Kolonlar')\n",
    "    plt.ylabel('Veri Tipi Sayısı')\n",
    "    plt.title('Her Kolondaki Veri Tipleri')\n",
    "    plt.show()\n",
    "\n",
    "\n",
    "plot_data_types(data)\n"
   ]
  },
  {
   "cell_type": "markdown",
   "metadata": {},
   "source": [
    "## Veri Tipi Kontrolü"
   ]
  },
  {
   "cell_type": "code",
   "execution_count": 29,
   "metadata": {},
   "outputs": [
    {
     "name": "stdout",
     "output_type": "stream",
     "text": [
      "Veri Tipleri ve Sayıları:\n",
      "int64: 214\n",
      "object: 2\n",
      "\n",
      "Her Kolondaki Veri Tipleri:\n",
      "int64: transact, onServiceConnected, bindService, attachInterface, ServiceConnection, android.os.Binder, SEND_SMS, Ljava.lang.Class.getCanonicalName, Ljava.lang.Class.getMethods, Ljava.lang.Class.cast, Ljava.net.URLDecoder, android.content.pm.Signature, android.telephony.SmsManager, READ_PHONE_STATE, getBinder, ClassLoader, Landroid.content.Context.registerReceiver, Ljava.lang.Class.getField, Landroid.content.Context.unregisterReceiver, GET_ACCOUNTS, RECEIVE_SMS, Ljava.lang.Class.getDeclaredField, READ_SMS, getCallingUid, Ljavax.crypto.spec.SecretKeySpec, android.intent.action.BOOT_COMPLETED, USE_CREDENTIALS, MANAGE_ACCOUNTS, android.content.pm.PackageInfo, KeySpec, TelephonyManager.getLine1Number, DexClassLoader, HttpGet.init, SecretKey, Ljava.lang.Class.getMethod, System.loadLibrary, android.intent.action.SEND, Ljavax.crypto.Cipher, WRITE_SMS, READ_SYNC_SETTINGS, AUTHENTICATE_ACCOUNTS, android.telephony.gsm.SmsManager, WRITE_HISTORY_BOOKMARKS, TelephonyManager.getSubscriberId, mount, INSTALL_PACKAGES, Runtime.getRuntime, CAMERA, Ljava.lang.Object.getClass, WRITE_SYNC_SETTINGS, READ_HISTORY_BOOKMARKS, Ljava.lang.Class.forName, INTERNET, android.intent.action.PACKAGE_REPLACED, Binder, android.intent.action.SEND_MULTIPLE, RECORD_AUDIO, IBinder, android.os.IBinder, createSubprocess, NFC, ACCESS_LOCATION_EXTRA_COMMANDS, URLClassLoader, WRITE_APN_SETTINGS, abortBroadcast, BIND_REMOTEVIEWS, android.intent.action.TIME_SET, READ_PROFILE, TelephonyManager.getDeviceId, MODIFY_AUDIO_SETTINGS, getCallingPid, READ_SYNC_STATS, BROADCAST_STICKY, android.intent.action.PACKAGE_REMOVED, android.intent.action.TIMEZONE_CHANGED, WAKE_LOCK, RECEIVE_BOOT_COMPLETED, RESTART_PACKAGES, Ljava.lang.Class.getPackage, chmod, Ljava.lang.Class.getDeclaredClasses, android.intent.action.ACTION_POWER_DISCONNECTED, android.intent.action.PACKAGE_ADDED, PathClassLoader, TelephonyManager.getSimSerialNumber, Runtime.load, TelephonyManager.getCallState, BLUETOOTH, READ_CALENDAR, READ_CALL_LOG, SUBSCRIBED_FEEDS_WRITE, READ_EXTERNAL_STORAGE, sendMultipartTextMessage, PackageInstaller, VIBRATE, remount, android.intent.action.ACTION_SHUTDOWN, sendDataMessage, ACCESS_NETWORK_STATE, chown, HttpPost.init, Ljava.lang.Class.getClasses, SUBSCRIBED_FEEDS_READ, TelephonyManager.isNetworkRoaming, CHANGE_WIFI_MULTICAST_STATE, WRITE_CALENDAR, android.intent.action.PACKAGE_DATA_CLEARED, MASTER_CLEAR, HttpUriRequest, UPDATE_DEVICE_STATS, WRITE_CALL_LOG, DELETE_PACKAGES, GET_TASKS, GLOBAL_SEARCH, DELETE_CACHE_FILES, WRITE_USER_DICTIONARY, android.intent.action.PACKAGE_CHANGED, android.intent.action.NEW_OUTGOING_CALL, REORDER_TASKS, WRITE_PROFILE, SET_WALLPAPER, BIND_INPUT_METHOD, divideMessage, READ_SOCIAL_STREAM, READ_USER_DICTIONARY, PROCESS_OUTGOING_CALLS, CALL_PRIVILEGED, Runtime.exec, BIND_WALLPAPER, RECEIVE_WAP_PUSH, DUMP, BATTERY_STATS, ACCESS_COARSE_LOCATION, SET_TIME, android.intent.action.SENDTO, WRITE_SOCIAL_STREAM, WRITE_SETTINGS, REBOOT, BLUETOOTH_ADMIN, TelephonyManager.getNetworkOperator, /system/bin, MessengerService, BIND_DEVICE_ADMIN, WRITE_GSERVICES, IRemoteService, KILL_BACKGROUND_PROCESSES, SET_ALARM, ACCOUNT_MANAGER, /system/app, android.intent.action.CALL, STATUS_BAR, TelephonyManager.getSimOperator, PERSISTENT_ACTIVITY, CHANGE_NETWORK_STATE, onBind, Process.start, android.intent.action.SCREEN_ON, Context.bindService, RECEIVE_MMS, SET_TIME_ZONE, android.intent.action.BATTERY_OKAY, CONTROL_LOCATION_UPDATES, BROADCAST_WAP_PUSH, BIND_ACCESSIBILITY_SERVICE, ADD_VOICEMAIL, CALL_PHONE, ProcessBuilder, BIND_APPWIDGET, FLASHLIGHT, READ_LOGS, Ljava.lang.Class.getResource, defineClass, SET_PROCESS_LIMIT, android.intent.action.PACKAGE_RESTARTED, MOUNT_UNMOUNT_FILESYSTEMS, BIND_TEXT_SERVICE, INSTALL_LOCATION_PROVIDER, android.intent.action.CALL_BUTTON, android.intent.action.SCREEN_OFF, findClass, SYSTEM_ALERT_WINDOW, MOUNT_FORMAT_FILESYSTEMS, CHANGE_CONFIGURATION, CLEAR_APP_USER_DATA, intent.action.RUN, android.intent.action.SET_WALLPAPER, CHANGE_WIFI_STATE, READ_FRAME_BUFFER, ACCESS_SURFACE_FLINGER, Runtime.loadLibrary, BROADCAST_SMS, EXPAND_STATUS_BAR, INTERNAL_SYSTEM_WINDOW, android.intent.action.BATTERY_LOW, SET_ACTIVITY_WATCHER, WRITE_CONTACTS, android.intent.action.ACTION_POWER_CONNECTED, BIND_VPN_SERVICE, DISABLE_KEYGUARD, ACCESS_MOCK_LOCATION, GET_PACKAGE_SIZE, MODIFY_PHONE_STATE, CHANGE_COMPONENT_ENABLED_STATE, CLEAR_APP_CACHE, SET_ORIENTATION, READ_CONTACTS, DEVICE_POWER, HARDWARE_TEST, ACCESS_WIFI_STATE, WRITE_EXTERNAL_STORAGE, ACCESS_FINE_LOCATION, SET_WALLPAPER_HINTS, SET_PREFERRED_APPLICATIONS, WRITE_SECURE_SETTINGS\n",
      "object: TelephonyManager.getSimCountryIso, class\n"
     ]
    },
    {
     "name": "stderr",
     "output_type": "stream",
     "text": [
      "/tmp/ipykernel_13355/2135063096.py:15: DtypeWarning: Columns (92) have mixed types. Specify dtype option on import or set low_memory=False.\n",
      "  data = pd.read_csv('drebin-215-dataset-5560malware-9476-benign.csv')\n"
     ]
    }
   ],
   "source": [
    "import pandas as pd\n",
    "\n",
    "def check_data_types(data):\n",
    "    data_types_count = {}\n",
    "    columns_with_types = {}\n",
    "\n",
    "    for column in data.columns:\n",
    "        data_type = data[column].dtype\n",
    "        data_types_count[str(data_type)] = data_types_count.get(str(data_type), 0) + 1\n",
    "        columns_with_types.setdefault(str(data_type), []).append(column)\n",
    "\n",
    "    return data_types_count, columns_with_types\n",
    "\n",
    "\n",
    "data = pd.read_csv('drebin-215-dataset-5560malware-9476-benign.csv')\n",
    "\n",
    "data_types_count, columns_with_types = check_data_types(data)\n",
    "\n",
    "print(\"Veri Tipleri ve Sayıları:\")\n",
    "for data_type, count in data_types_count.items():\n",
    "    print(f\"{data_type}: {count}\")\n",
    "\n",
    "print(\"\\nHer Kolondaki Veri Tipleri:\")\n",
    "for data_type, columns in columns_with_types.items():\n",
    "    print(f\"{data_type}: {', '.join(columns)}\")\n"
   ]
  },
  {
   "cell_type": "markdown",
   "metadata": {},
   "source": [
    "## Kolon Bulma"
   ]
  },
  {
   "cell_type": "code",
   "execution_count": 56,
   "metadata": {},
   "outputs": [],
   "source": [
    "import pandas as pd\n",
    "\n",
    "def kolon_bul(kolonName):\n",
    "    if kolonName in data.columns:\n",
    "        # Kolonun içerdiği değerleri yazdır\n",
    "        print(f\"{kolonName} Kolonu Değerleri:\\n{data[kolonName].values}\")\n",
    "\n",
    "        # Kolondaki eleman sayısını yazdır\n",
    "        eleman_sayisi = data[kolonName].count()\n",
    "        print(f\"{kolonName} Kolonundaki Eleman Sayısı: {eleman_sayisi}\")\n",
    "\n",
    "    else:\n",
    "        print(f\"{kolonName} Kolonu bulunamadı.\")\n",
    "        print(\"Kolonlar:\", data.columns)\n",
    "        print(\"Toplam Kolon Sayısı:\", len(data.columns))\n",
    "\n"
   ]
  },
  {
   "cell_type": "code",
   "execution_count": 61,
   "metadata": {},
   "outputs": [
    {
     "name": "stdout",
     "output_type": "stream",
     "text": [
      "getSimCountryIso Kolonu bulunamadı.\n",
      "Kolonlar: Index(['transact', 'onServiceConnected', 'bindService', 'attachInterface',\n",
      "       'ServiceConnection', 'android.os.Binder', 'SEND_SMS',\n",
      "       'Ljava.lang.Class.getCanonicalName', 'Ljava.lang.Class.getMethods',\n",
      "       'Ljava.lang.Class.cast',\n",
      "       ...\n",
      "       'READ_CONTACTS', 'DEVICE_POWER', 'HARDWARE_TEST', 'ACCESS_WIFI_STATE',\n",
      "       'WRITE_EXTERNAL_STORAGE', 'ACCESS_FINE_LOCATION', 'SET_WALLPAPER_HINTS',\n",
      "       'SET_PREFERRED_APPLICATIONS', 'WRITE_SECURE_SETTINGS', 'class'],\n",
      "      dtype='object', length=216)\n",
      "Toplam Kolon Sayısı: 216\n"
     ]
    }
   ],
   "source": [
    "kolon_bul(\"getSimCountryIso\")"
   ]
  },
  {
   "cell_type": "markdown",
   "metadata": {},
   "source": [
    "## EĞİTİM TEST DİYE BÖLME "
   ]
  },
  {
   "cell_type": "code",
   "execution_count": 30,
   "metadata": {},
   "outputs": [],
   "source": [
    "y = data[\"class\"]\n",
    "x = data.drop(\"class\", axis=1)"
   ]
  },
  {
   "cell_type": "code",
   "execution_count": 31,
   "metadata": {},
   "outputs": [
    {
     "name": "stdout",
     "output_type": "stream",
     "text": [
      "x:  (15036, 215)\n",
      "y:  (15036,)\n"
     ]
    }
   ],
   "source": [
    "print(\"x: \",x.shape)\n",
    "print(\"y: \",y.shape)"
   ]
  },
  {
   "cell_type": "code",
   "execution_count": 32,
   "metadata": {},
   "outputs": [],
   "source": [
    "X_train, X_test, y_train, y_test = train_test_split(x, y, test_size=0.2, random_state=42)\n"
   ]
  },
  {
   "cell_type": "code",
   "execution_count": 33,
   "metadata": {},
   "outputs": [
    {
     "name": "stdout",
     "output_type": "stream",
     "text": [
      "X_train:  (12028, 215)\n",
      "X_test:  (3008, 215)\n",
      "y_train:  (12028,)\n",
      "y_test:  (3008,)\n"
     ]
    }
   ],
   "source": [
    "print(\"X_train: \",X_train.shape)\n",
    "print(\"X_test: \",X_test.shape)\n",
    "print(\"y_train: \",y_train.shape)\n",
    "print(\"y_test: \",y_test.shape)"
   ]
  },
  {
   "cell_type": "code",
   "execution_count": 65,
   "metadata": {},
   "outputs": [
    {
     "name": "stderr",
     "output_type": "stream",
     "text": [
      "/tmp/ipykernel_13355/1473851395.py:3: DtypeWarning: Columns (92) have mixed types. Specify dtype option on import or set low_memory=False.\n",
      "  data = pd.read_csv('drebin-215-dataset-5560malware-9476-benign.csv')\n"
     ]
    },
    {
     "ename": "KeyError",
     "evalue": "\"None of [Index(['kolon1', 'kolon2', 'kolon3'], dtype='object')] are in the [columns]\"",
     "output_type": "error",
     "traceback": [
      "\u001b[0;31m---------------------------------------------------------------------------\u001b[0m",
      "\u001b[0;31mKeyError\u001b[0m                                  Traceback (most recent call last)",
      "Cell \u001b[0;32mIn[65], line 9\u001b[0m\n\u001b[1;32m      6\u001b[0m anomali_tabanli_kolonlar \u001b[38;5;241m=\u001b[39m [\u001b[38;5;124m'\u001b[39m\u001b[38;5;124mkolon1\u001b[39m\u001b[38;5;124m'\u001b[39m, \u001b[38;5;124m'\u001b[39m\u001b[38;5;124mkolon2\u001b[39m\u001b[38;5;124m'\u001b[39m, \u001b[38;5;124m'\u001b[39m\u001b[38;5;124mkolon3\u001b[39m\u001b[38;5;124m'\u001b[39m]  \u001b[38;5;66;03m# Bu listeyi veri setinizdeki gerçek anomali tabanlı kolon adlarıyla güncelleyin\u001b[39;00m\n\u001b[1;32m      8\u001b[0m data[\u001b[38;5;124m'\u001b[39m\u001b[38;5;124mimza_tabanli_sayisi\u001b[39m\u001b[38;5;124m'\u001b[39m] \u001b[38;5;241m=\u001b[39m data[imza_tabanli_kolonlar]\u001b[38;5;241m.\u001b[39msum()\n\u001b[0;32m----> 9\u001b[0m data[\u001b[38;5;124m'\u001b[39m\u001b[38;5;124manomali_tabanli_sayisi\u001b[39m\u001b[38;5;124m'\u001b[39m] \u001b[38;5;241m=\u001b[39m \u001b[43mdata\u001b[49m\u001b[43m[\u001b[49m\u001b[43manomali_tabanli_kolonlar\u001b[49m\u001b[43m]\u001b[49m\u001b[38;5;241m.\u001b[39msum()\n\u001b[1;32m     11\u001b[0m toplam_imza_tabanli_sayisi \u001b[38;5;241m=\u001b[39m data[\u001b[38;5;124m'\u001b[39m\u001b[38;5;124mimza_tabanli_sayisi\u001b[39m\u001b[38;5;124m'\u001b[39m]\u001b[38;5;241m.\u001b[39msum()\n\u001b[1;32m     12\u001b[0m toplam_anomali_tabanli_sayisi \u001b[38;5;241m=\u001b[39m data[\u001b[38;5;124m'\u001b[39m\u001b[38;5;124manomali_tabanli_sayisi\u001b[39m\u001b[38;5;124m'\u001b[39m]\u001b[38;5;241m.\u001b[39msum()\n",
      "File \u001b[0;32m~/.local/lib/python3.10/site-packages/pandas/core/frame.py:3899\u001b[0m, in \u001b[0;36mDataFrame.__getitem__\u001b[0;34m(self, key)\u001b[0m\n\u001b[1;32m   3897\u001b[0m     \u001b[38;5;28;01mif\u001b[39;00m is_iterator(key):\n\u001b[1;32m   3898\u001b[0m         key \u001b[38;5;241m=\u001b[39m \u001b[38;5;28mlist\u001b[39m(key)\n\u001b[0;32m-> 3899\u001b[0m     indexer \u001b[38;5;241m=\u001b[39m \u001b[38;5;28;43mself\u001b[39;49m\u001b[38;5;241;43m.\u001b[39;49m\u001b[43mcolumns\u001b[49m\u001b[38;5;241;43m.\u001b[39;49m\u001b[43m_get_indexer_strict\u001b[49m\u001b[43m(\u001b[49m\u001b[43mkey\u001b[49m\u001b[43m,\u001b[49m\u001b[43m \u001b[49m\u001b[38;5;124;43m\"\u001b[39;49m\u001b[38;5;124;43mcolumns\u001b[39;49m\u001b[38;5;124;43m\"\u001b[39;49m\u001b[43m)\u001b[49m[\u001b[38;5;241m1\u001b[39m]\n\u001b[1;32m   3901\u001b[0m \u001b[38;5;66;03m# take() does not accept boolean indexers\u001b[39;00m\n\u001b[1;32m   3902\u001b[0m \u001b[38;5;28;01mif\u001b[39;00m \u001b[38;5;28mgetattr\u001b[39m(indexer, \u001b[38;5;124m\"\u001b[39m\u001b[38;5;124mdtype\u001b[39m\u001b[38;5;124m\"\u001b[39m, \u001b[38;5;28;01mNone\u001b[39;00m) \u001b[38;5;241m==\u001b[39m \u001b[38;5;28mbool\u001b[39m:\n",
      "File \u001b[0;32m~/.local/lib/python3.10/site-packages/pandas/core/indexes/base.py:6115\u001b[0m, in \u001b[0;36mIndex._get_indexer_strict\u001b[0;34m(self, key, axis_name)\u001b[0m\n\u001b[1;32m   6112\u001b[0m \u001b[38;5;28;01melse\u001b[39;00m:\n\u001b[1;32m   6113\u001b[0m     keyarr, indexer, new_indexer \u001b[38;5;241m=\u001b[39m \u001b[38;5;28mself\u001b[39m\u001b[38;5;241m.\u001b[39m_reindex_non_unique(keyarr)\n\u001b[0;32m-> 6115\u001b[0m \u001b[38;5;28;43mself\u001b[39;49m\u001b[38;5;241;43m.\u001b[39;49m\u001b[43m_raise_if_missing\u001b[49m\u001b[43m(\u001b[49m\u001b[43mkeyarr\u001b[49m\u001b[43m,\u001b[49m\u001b[43m \u001b[49m\u001b[43mindexer\u001b[49m\u001b[43m,\u001b[49m\u001b[43m \u001b[49m\u001b[43maxis_name\u001b[49m\u001b[43m)\u001b[49m\n\u001b[1;32m   6117\u001b[0m keyarr \u001b[38;5;241m=\u001b[39m \u001b[38;5;28mself\u001b[39m\u001b[38;5;241m.\u001b[39mtake(indexer)\n\u001b[1;32m   6118\u001b[0m \u001b[38;5;28;01mif\u001b[39;00m \u001b[38;5;28misinstance\u001b[39m(key, Index):\n\u001b[1;32m   6119\u001b[0m     \u001b[38;5;66;03m# GH 42790 - Preserve name from an Index\u001b[39;00m\n",
      "File \u001b[0;32m~/.local/lib/python3.10/site-packages/pandas/core/indexes/base.py:6176\u001b[0m, in \u001b[0;36mIndex._raise_if_missing\u001b[0;34m(self, key, indexer, axis_name)\u001b[0m\n\u001b[1;32m   6174\u001b[0m     \u001b[38;5;28;01mif\u001b[39;00m use_interval_msg:\n\u001b[1;32m   6175\u001b[0m         key \u001b[38;5;241m=\u001b[39m \u001b[38;5;28mlist\u001b[39m(key)\n\u001b[0;32m-> 6176\u001b[0m     \u001b[38;5;28;01mraise\u001b[39;00m \u001b[38;5;167;01mKeyError\u001b[39;00m(\u001b[38;5;124mf\u001b[39m\u001b[38;5;124m\"\u001b[39m\u001b[38;5;124mNone of [\u001b[39m\u001b[38;5;132;01m{\u001b[39;00mkey\u001b[38;5;132;01m}\u001b[39;00m\u001b[38;5;124m] are in the [\u001b[39m\u001b[38;5;132;01m{\u001b[39;00maxis_name\u001b[38;5;132;01m}\u001b[39;00m\u001b[38;5;124m]\u001b[39m\u001b[38;5;124m\"\u001b[39m)\n\u001b[1;32m   6178\u001b[0m not_found \u001b[38;5;241m=\u001b[39m \u001b[38;5;28mlist\u001b[39m(ensure_index(key)[missing_mask\u001b[38;5;241m.\u001b[39mnonzero()[\u001b[38;5;241m0\u001b[39m]]\u001b[38;5;241m.\u001b[39munique())\n\u001b[1;32m   6179\u001b[0m \u001b[38;5;28;01mraise\u001b[39;00m \u001b[38;5;167;01mKeyError\u001b[39;00m(\u001b[38;5;124mf\u001b[39m\u001b[38;5;124m\"\u001b[39m\u001b[38;5;132;01m{\u001b[39;00mnot_found\u001b[38;5;132;01m}\u001b[39;00m\u001b[38;5;124m not in index\u001b[39m\u001b[38;5;124m\"\u001b[39m)\n",
      "\u001b[0;31mKeyError\u001b[0m: \"None of [Index(['kolon1', 'kolon2', 'kolon3'], dtype='object')] are in the [columns]\""
     ]
    }
   ],
   "source": [
    "import pandas as pd\n",
    "\n",
    "data = pd.read_csv('drebin-215-dataset-5560malware-9476-benign.csv')\n",
    "\n",
    "imza_tabanli_kolonlar = ['transact', 'onServiceConnected', 'bindService', 'attachInterface', 'ServiceConnection', 'android.os.Binder', 'SEND_SMS', 'Ljava.lang.Class.getCanonicalName', 'Ljava.lang.Class.getMethods', 'Ljava.lang.Class.cast', 'Ljava.net.URLDecoder', 'android.content.pm.Signature', 'android.telephony.SmsManager']\n",
    "anomali_tabanli_kolonlar = ['kolon1', 'kolon2', 'kolon3']  # Bu listeyi veri setinizdeki gerçek anomali tabanlı kolon adlarıyla güncelleyin\n",
    "\n",
    "data['imza_tabanli_sayisi'] = data[imza_tabanli_kolonlar].sum()\n",
    "data['anomali_tabanli_sayisi'] = data[anomali_tabanli_kolonlar].sum()\n",
    "\n",
    "toplam_imza_tabanli_sayisi = data['imza_tabanli_sayisi'].sum()\n",
    "toplam_anomali_tabanli_sayisi = data['anomali_tabanli_sayisi'].sum()\n",
    "\n",
    "print(f\"Toplam Imza Tabanlı Kolon Sayısı: {toplam_imza_tabanli_sayisi}\")\n",
    "print(f\"Toplam Anomali Tabanlı Kolon Sayısı: {toplam_anomali_tabanli_sayisi}\")\n"
   ]
  },
  {
   "cell_type": "code",
   "execution_count": null,
   "metadata": {},
   "outputs": [],
   "source": []
  }
 ],
 "metadata": {
  "kernelspec": {
   "display_name": "Python 3",
   "language": "python",
   "name": "python3"
  },
  "language_info": {
   "codemirror_mode": {
    "name": "ipython",
    "version": 3
   },
   "file_extension": ".py",
   "mimetype": "text/x-python",
   "name": "python",
   "nbconvert_exporter": "python",
   "pygments_lexer": "ipython3",
   "version": "3.10.12"
  }
 },
 "nbformat": 4,
 "nbformat_minor": 2
}
